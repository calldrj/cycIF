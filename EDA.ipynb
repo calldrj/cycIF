{
 "cells": [
  {
   "cell_type": "code",
   "execution_count": 1,
   "metadata": {},
   "outputs": [],
   "source": [
    "import pandas as pd\n",
    "import re\n",
    "df = pd.read_csv('Results-Cyto-B02fld1.txt', sep='\\t', \n",
    "                 engine='python', \n",
    "                 usecols=['Label', 'Area', 'IntDen'])"
   ]
  },
  {
   "cell_type": "code",
   "execution_count": 2,
   "metadata": {},
   "outputs": [
    {
     "data": {
      "text/html": [
       "<div>\n",
       "<style scoped>\n",
       "    .dataframe tbody tr th:only-of-type {\n",
       "        vertical-align: middle;\n",
       "    }\n",
       "\n",
       "    .dataframe tbody tr th {\n",
       "        vertical-align: top;\n",
       "    }\n",
       "\n",
       "    .dataframe thead th {\n",
       "        text-align: right;\n",
       "    }\n",
       "</style>\n",
       "<table border=\"1\" class=\"dataframe\">\n",
       "  <thead>\n",
       "    <tr style=\"text-align: right;\">\n",
       "      <th></th>\n",
       "      <th>Label</th>\n",
       "      <th>Area</th>\n",
       "      <th>IntDen</th>\n",
       "    </tr>\n",
       "  </thead>\n",
       "  <tbody>\n",
       "    <tr>\n",
       "      <th>0</th>\n",
       "      <td>B02_fld1:0001-0020:DAPI-0001</td>\n",
       "      <td>278.483</td>\n",
       "      <td>788780.068</td>\n",
       "    </tr>\n",
       "    <tr>\n",
       "      <th>1</th>\n",
       "      <td>B02_fld1:0002-0011:DAPI-0001</td>\n",
       "      <td>138.392</td>\n",
       "      <td>768845.634</td>\n",
       "    </tr>\n",
       "    <tr>\n",
       "      <th>2</th>\n",
       "      <td>B02_fld1:0003-0022:DAPI-0001</td>\n",
       "      <td>320.934</td>\n",
       "      <td>2718074.845</td>\n",
       "    </tr>\n",
       "    <tr>\n",
       "      <th>3</th>\n",
       "      <td>B02_fld1:0004-0011:DAPI-0001</td>\n",
       "      <td>108.676</td>\n",
       "      <td>336691.483</td>\n",
       "    </tr>\n",
       "    <tr>\n",
       "      <th>4</th>\n",
       "      <td>B02_fld1:0005-0026:DAPI-0001</td>\n",
       "      <td>363.386</td>\n",
       "      <td>1467866.834</td>\n",
       "    </tr>\n",
       "  </tbody>\n",
       "</table>\n",
       "</div>"
      ],
      "text/plain": [
       "                          Label     Area       IntDen\n",
       "0  B02_fld1:0001-0020:DAPI-0001  278.483   788780.068\n",
       "1  B02_fld1:0002-0011:DAPI-0001  138.392   768845.634\n",
       "2  B02_fld1:0003-0022:DAPI-0001  320.934  2718074.845\n",
       "3  B02_fld1:0004-0011:DAPI-0001  108.676   336691.483\n",
       "4  B02_fld1:0005-0026:DAPI-0001  363.386  1467866.834"
      ]
     },
     "execution_count": 2,
     "metadata": {},
     "output_type": "execute_result"
    }
   ],
   "source": [
    "df.head()"
   ]
  },
  {
   "cell_type": "code",
   "execution_count": 3,
   "metadata": {},
   "outputs": [
    {
     "name": "stdout",
     "output_type": "stream",
     "text": [
      "<class 'pandas.core.frame.DataFrame'>\n",
      "RangeIndex: 33624 entries, 0 to 33623\n",
      "Data columns (total 3 columns):\n",
      " #   Column  Non-Null Count  Dtype  \n",
      "---  ------  --------------  -----  \n",
      " 0   Label   33624 non-null  object \n",
      " 1   Area    33624 non-null  float64\n",
      " 2   IntDen  33624 non-null  float64\n",
      "dtypes: float64(2), object(1)\n",
      "memory usage: 788.2+ KB\n"
     ]
    }
   ],
   "source": [
    "df.info()"
   ]
  },
  {
   "cell_type": "code",
   "execution_count": 4,
   "metadata": {},
   "outputs": [],
   "source": [
    "well = r'[A-Z]+.*?(?=_)'\n",
    "field = r'(?<=d)[\\d]{1,1}?(?=:)'\n",
    "cell_id = r'(\\d+)-(\\d+)'\n",
    "channel = r'(?<=:)[A-Z]+.*?(?=-)'\n",
    "\n",
    "df['Well'] = df['Label'].apply(lambda x: re.search(well, x).group())\n",
    "df['Field'] = df['Label'].apply(lambda x: re.search(field, x).group())\n",
    "df['Cell ID'] = df['Label'].apply(lambda x: re.search(cell_id, x).group())\n",
    "df['Channel'] = df['Label'].apply(lambda x: re.search(channel, x).group())\n",
    "df['Cycle'] = df['Label'].apply(lambda x: int(x[-1:]))\n",
    "df = df[['Cell ID', 'Well', 'Field', 'Channel', 'Cycle', 'Area', 'IntDen']]"
   ]
  },
  {
   "cell_type": "code",
   "execution_count": 5,
   "metadata": {},
   "outputs": [
    {
     "data": {
      "text/html": [
       "<div>\n",
       "<style scoped>\n",
       "    .dataframe tbody tr th:only-of-type {\n",
       "        vertical-align: middle;\n",
       "    }\n",
       "\n",
       "    .dataframe tbody tr th {\n",
       "        vertical-align: top;\n",
       "    }\n",
       "\n",
       "    .dataframe thead th {\n",
       "        text-align: right;\n",
       "    }\n",
       "</style>\n",
       "<table border=\"1\" class=\"dataframe\">\n",
       "  <thead>\n",
       "    <tr style=\"text-align: right;\">\n",
       "      <th></th>\n",
       "      <th>Cell ID</th>\n",
       "      <th>Well</th>\n",
       "      <th>Field</th>\n",
       "      <th>Channel</th>\n",
       "      <th>Cycle</th>\n",
       "      <th>Area</th>\n",
       "      <th>IntDen</th>\n",
       "    </tr>\n",
       "  </thead>\n",
       "  <tbody>\n",
       "    <tr>\n",
       "      <th>0</th>\n",
       "      <td>0001-0020</td>\n",
       "      <td>B02</td>\n",
       "      <td>1</td>\n",
       "      <td>DAPI</td>\n",
       "      <td>1</td>\n",
       "      <td>278.483</td>\n",
       "      <td>788780.068</td>\n",
       "    </tr>\n",
       "    <tr>\n",
       "      <th>1</th>\n",
       "      <td>0002-0011</td>\n",
       "      <td>B02</td>\n",
       "      <td>1</td>\n",
       "      <td>DAPI</td>\n",
       "      <td>1</td>\n",
       "      <td>138.392</td>\n",
       "      <td>768845.634</td>\n",
       "    </tr>\n",
       "    <tr>\n",
       "      <th>2</th>\n",
       "      <td>0003-0022</td>\n",
       "      <td>B02</td>\n",
       "      <td>1</td>\n",
       "      <td>DAPI</td>\n",
       "      <td>1</td>\n",
       "      <td>320.934</td>\n",
       "      <td>2718074.845</td>\n",
       "    </tr>\n",
       "    <tr>\n",
       "      <th>3</th>\n",
       "      <td>0004-0011</td>\n",
       "      <td>B02</td>\n",
       "      <td>1</td>\n",
       "      <td>DAPI</td>\n",
       "      <td>1</td>\n",
       "      <td>108.676</td>\n",
       "      <td>336691.483</td>\n",
       "    </tr>\n",
       "    <tr>\n",
       "      <th>4</th>\n",
       "      <td>0005-0026</td>\n",
       "      <td>B02</td>\n",
       "      <td>1</td>\n",
       "      <td>DAPI</td>\n",
       "      <td>1</td>\n",
       "      <td>363.386</td>\n",
       "      <td>1467866.834</td>\n",
       "    </tr>\n",
       "    <tr>\n",
       "      <th>5</th>\n",
       "      <td>0006-0016</td>\n",
       "      <td>B02</td>\n",
       "      <td>1</td>\n",
       "      <td>DAPI</td>\n",
       "      <td>1</td>\n",
       "      <td>202.070</td>\n",
       "      <td>618523.579</td>\n",
       "    </tr>\n",
       "    <tr>\n",
       "      <th>6</th>\n",
       "      <td>0007-0023</td>\n",
       "      <td>B02</td>\n",
       "      <td>1</td>\n",
       "      <td>DAPI</td>\n",
       "      <td>1</td>\n",
       "      <td>311.595</td>\n",
       "      <td>1278760.974</td>\n",
       "    </tr>\n",
       "    <tr>\n",
       "      <th>7</th>\n",
       "      <td>0008-0011</td>\n",
       "      <td>B02</td>\n",
       "      <td>1</td>\n",
       "      <td>DAPI</td>\n",
       "      <td>1</td>\n",
       "      <td>101.884</td>\n",
       "      <td>410215.151</td>\n",
       "    </tr>\n",
       "    <tr>\n",
       "      <th>8</th>\n",
       "      <td>0009-0020</td>\n",
       "      <td>B02</td>\n",
       "      <td>1</td>\n",
       "      <td>DAPI</td>\n",
       "      <td>1</td>\n",
       "      <td>117.166</td>\n",
       "      <td>185725.012</td>\n",
       "    </tr>\n",
       "    <tr>\n",
       "      <th>9</th>\n",
       "      <td>0010-0028</td>\n",
       "      <td>B02</td>\n",
       "      <td>1</td>\n",
       "      <td>DAPI</td>\n",
       "      <td>1</td>\n",
       "      <td>266.596</td>\n",
       "      <td>930858.866</td>\n",
       "    </tr>\n",
       "  </tbody>\n",
       "</table>\n",
       "</div>"
      ],
      "text/plain": [
       "     Cell ID Well Field Channel  Cycle     Area       IntDen\n",
       "0  0001-0020  B02     1    DAPI      1  278.483   788780.068\n",
       "1  0002-0011  B02     1    DAPI      1  138.392   768845.634\n",
       "2  0003-0022  B02     1    DAPI      1  320.934  2718074.845\n",
       "3  0004-0011  B02     1    DAPI      1  108.676   336691.483\n",
       "4  0005-0026  B02     1    DAPI      1  363.386  1467866.834\n",
       "5  0006-0016  B02     1    DAPI      1  202.070   618523.579\n",
       "6  0007-0023  B02     1    DAPI      1  311.595  1278760.974\n",
       "7  0008-0011  B02     1    DAPI      1  101.884   410215.151\n",
       "8  0009-0020  B02     1    DAPI      1  117.166   185725.012\n",
       "9  0010-0028  B02     1    DAPI      1  266.596   930858.866"
      ]
     },
     "execution_count": 5,
     "metadata": {},
     "output_type": "execute_result"
    }
   ],
   "source": [
    "df.head(10)"
   ]
  },
  {
   "cell_type": "code",
   "execution_count": 6,
   "metadata": {},
   "outputs": [
    {
     "data": {
      "text/plain": [
       "(33624, 7)"
      ]
     },
     "execution_count": 6,
     "metadata": {},
     "output_type": "execute_result"
    }
   ],
   "source": [
    "df.shape"
   ]
  },
  {
   "cell_type": "code",
   "execution_count": 7,
   "metadata": {},
   "outputs": [
    {
     "data": {
      "text/plain": [
       "DAPI    8406\n",
       "FITC    8406\n",
       "Cy3     8406\n",
       "Cy5     8406\n",
       "Name: Channel, dtype: int64"
      ]
     },
     "execution_count": 7,
     "metadata": {},
     "output_type": "execute_result"
    }
   ],
   "source": [
    "df['Channel'].value_counts()"
   ]
  },
  {
   "cell_type": "code",
   "execution_count": 8,
   "metadata": {},
   "outputs": [
    {
     "data": {
      "text/plain": [
       "6    5604\n",
       "5    5604\n",
       "4    5604\n",
       "3    5604\n",
       "2    5604\n",
       "1    5604\n",
       "Name: Cycle, dtype: int64"
      ]
     },
     "execution_count": 8,
     "metadata": {},
     "output_type": "execute_result"
    }
   ],
   "source": [
    "df['Cycle'].value_counts()"
   ]
  },
  {
   "cell_type": "code",
   "execution_count": 9,
   "metadata": {},
   "outputs": [
    {
     "data": {
      "text/plain": [
       "0695-0542    24\n",
       "1246-0917    24\n",
       "0467-0397    24\n",
       "0627-0497    24\n",
       "0953-0700    24\n",
       "             ..\n",
       "1304-0964    24\n",
       "1065-0776    24\n",
       "0098-0101    24\n",
       "0922-0681    24\n",
       "0840-0627    24\n",
       "Name: Cell ID, Length: 1401, dtype: int64"
      ]
     },
     "execution_count": 9,
     "metadata": {},
     "output_type": "execute_result"
    }
   ],
   "source": [
    "df['Cell ID'].value_counts()"
   ]
  },
  {
   "cell_type": "code",
   "execution_count": 10,
   "metadata": {},
   "outputs": [
    {
     "name": "stdout",
     "output_type": "stream",
     "text": [
      "Total cells in well B02 field 1: 1401\n"
     ]
    }
   ],
   "source": [
    "print('Total cells in well {} field {}: {}'\\\n",
    "      .format(df.Well[0], df.Field[0], int(df.shape[0] / df['Cell ID'].value_counts()[0])))"
   ]
  },
  {
   "cell_type": "code",
   "execution_count": null,
   "metadata": {},
   "outputs": [],
   "source": []
  }
 ],
 "metadata": {
  "kernelspec": {
   "display_name": "Python 3",
   "language": "python",
   "name": "python3"
  },
  "language_info": {
   "codemirror_mode": {
    "name": "ipython",
    "version": 3
   },
   "file_extension": ".py",
   "mimetype": "text/x-python",
   "name": "python",
   "nbconvert_exporter": "python",
   "pygments_lexer": "ipython3",
   "version": "3.7.7"
  }
 },
 "nbformat": 4,
 "nbformat_minor": 4
}
